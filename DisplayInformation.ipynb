{
 "cells": [
  {
   "cell_type": "code",
   "execution_count": 9,
   "id": "59af1878",
   "metadata": {},
   "outputs": [
    {
     "name": "stdout",
     "output_type": "stream",
     "text": [
      "Họ và tên: Phạm Văn Cự. Ngày sinh: 8 tháng 4 năm 1949. Địa chỉ: 6526 Normanville, Montreal, Quebec, Canada. Mục đích học: nâng cao hiểu biết.\n"
     ]
    }
   ],
   "source": [
    "a = (\"Họ và tên: Phạm Văn Cự. \")\n",
    "b = (\"Ngày sinh: 8 tháng 4 năm 1949. \")\n",
    "c = (\"Địa chỉ: 6526 Normanville, Montreal, Quebec, Canada. \")\n",
    "d = (\"Mục đích học: nâng cao hiểu biết.\")\n",
    "e = a+b+c+d\n",
    "print(e)\n"
   ]
  }
 ],
 "metadata": {
  "kernelspec": {
   "display_name": "Python 3",
   "language": "python",
   "name": "python3"
  },
  "language_info": {
   "codemirror_mode": {
    "name": "ipython",
    "version": 3
   },
   "file_extension": ".py",
   "mimetype": "text/x-python",
   "name": "python",
   "nbconvert_exporter": "python",
   "pygments_lexer": "ipython3",
   "version": "3.8.8"
  }
 },
 "nbformat": 4,
 "nbformat_minor": 5
}
